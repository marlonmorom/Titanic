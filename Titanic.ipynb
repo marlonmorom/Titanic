{
 "cells": [
  {
   "cell_type": "markdown",
   "metadata": {},
   "source": [
    "# Titanic Survival Analysis"
   ]
  },
  {
   "cell_type": "markdown",
   "metadata": {},
   "source": [
    "## This is an analysis of the Kaggle's competition Titanic Dataset, where we must predict whether a passenger would survive or not"
   ]
  },
  {
   "cell_type": "markdown",
   "metadata": {},
   "source": [
    "# Data Dictionary\n",
    "Variable&emsp;&emsp;Definition&emsp;&emsp;Key <br>\n",
    "***\n",
    "survival&emsp;&emsp;&nbsp;Survival&emsp;&emsp;&nbsp;&nbsp;0 = No, 1 = Yes <br>\n",
    "pclass&emsp;&emsp;&emsp;Ticket class&emsp;1 = 1st, 2 = 2nd, 3 = 3rd <br>\n",
    "sex&emsp;&emsp;&emsp;&emsp;&nbsp;Sex\t<br>\n",
    "Age&emsp;&emsp;&emsp;&emsp;Age in years\t<br>\n",
    "sibsp&emsp;&emsp;&nbsp;&emsp;# of siblings / spouses aboard the Titanic\t<br>\n",
    "parch&emsp;&emsp;&emsp;# of parents / children aboard the Titanic\t<br>\n",
    "ticket&emsp;&emsp;&emsp;Ticket number\t<br>\n",
    "fare&emsp;&emsp;&emsp;&nbsp;&nbsp;&nbsp;Passenger fare\t<br>\n",
    "cabin&emsp;&emsp;&emsp;Cabin number\t<br>\n",
    "embarked&emsp;Port of Embarkation\tC = Cherbourg, Q = Queenstown, S = Southampton<br>\n",
    "\n",
    "## Variable Notes\n",
    "\n",
    "#### pclass: A proxy for socio-economic status (SES)<br>\n",
    "1st = Upper\n",
    "2nd = Middle\n",
    "3rd = Lower<br>\n",
    "\n",
    "__age__: Age is fractional if less than 1. If the age is estimated, is it in the form of xx.5\n",
    "\n",
    "#### sibsp: The dataset defines family relations in this way...<br>\n",
    "__Sibling__ = brother, sister, stepbrother, stepsister<br>\n",
    "__Spouse__ = husband, wife (mistresses and fiancés were ignored)<br>\n",
    "\n",
    "#### parch: The dataset defines family relations in this way...<br>\n",
    "__Parent__ = mother, father<br>\n",
    "__Child__ = daughter, son, stepdaughter, stepson<br>\n",
    "Some children travelled only with a nanny, therefore parch=0 for them"
   ]
  },
  {
   "cell_type": "code",
   "execution_count": 1,
   "metadata": {},
   "outputs": [],
   "source": [
    "import pandas as pd\n",
    "import matplotlib.pyplot as plt\n",
    "import seaborn as sns\n",
    "pd.set_option(\"expand_frame_repr\", False)  #setting pandas to show the columns without line break"
   ]
  },
  {
   "cell_type": "markdown",
   "metadata": {},
   "source": [
    "### Let's us load the dataset and check the data before anything"
   ]
  },
  {
   "cell_type": "code",
   "execution_count": 2,
   "metadata": {},
   "outputs": [
    {
     "name": "stdout",
     "output_type": "stream",
     "text": [
      "             Survived  Pclass                                               Name     Sex   Age  SibSp  Parch            Ticket     Fare Cabin Embarked\n",
      "PassengerId                                                                                                                                           \n",
      "1                   0       3                            Braund, Mr. Owen Harris    male  22.0      1      0         A/5 21171   7.2500   NaN        S\n",
      "2                   1       1  Cumings, Mrs. John Bradley (Florence Briggs Th...  female  38.0      1      0          PC 17599  71.2833   C85        C\n",
      "3                   1       3                             Heikkinen, Miss. Laina  female  26.0      0      0  STON/O2. 3101282   7.9250   NaN        S\n",
      "4                   1       1       Futrelle, Mrs. Jacques Heath (Lily May Peel)  female  35.0      1      0            113803  53.1000  C123        S\n",
      "5                   0       3                           Allen, Mr. William Henry    male  35.0      0      0            373450   8.0500   NaN        S \n",
      "\n",
      "\n",
      "         Survived      Pclass         Age       SibSp       Parch        Fare\n",
      "count  891.000000  891.000000  714.000000  891.000000  891.000000  891.000000\n",
      "mean     0.383838    2.308642   29.699118    0.523008    0.381594   32.204208\n",
      "std      0.486592    0.836071   14.526497    1.102743    0.806057   49.693429\n",
      "min      0.000000    1.000000    0.420000    0.000000    0.000000    0.000000\n",
      "25%      0.000000    2.000000   20.125000    0.000000    0.000000    7.910400\n",
      "50%      0.000000    3.000000   28.000000    0.000000    0.000000   14.454200\n",
      "75%      1.000000    3.000000   38.000000    1.000000    0.000000   31.000000\n",
      "max      1.000000    3.000000   80.000000    8.000000    6.000000  512.329200 \n",
      "\n",
      "\n",
      "Survived      int64\n",
      "Pclass        int64\n",
      "Name         object\n",
      "Sex          object\n",
      "Age         float64\n",
      "SibSp         int64\n",
      "Parch         int64\n",
      "Ticket       object\n",
      "Fare        float64\n",
      "Cabin        object\n",
      "Embarked     object\n",
      "dtype: object \n",
      "\n",
      "\n"
     ]
    }
   ],
   "source": [
    "train = pd.read_csv('train.csv',index_col='PassengerId')\n",
    "test = pd.read_csv('test.csv',index_col='PassengerId')\n",
    "\n",
    "print(train.head(),'\\n\\n')\n",
    "print(train.describe(),'\\n\\n')\n",
    "print(train.dtypes,'\\n\\n')\n"
   ]
  },
  {
   "cell_type": "markdown",
   "metadata": {},
   "source": [
    "### Checking the first entries"
   ]
  },
  {
   "cell_type": "code",
   "execution_count": 3,
   "metadata": {},
   "outputs": [
    {
     "name": "stdout",
     "output_type": "stream",
     "text": [
      "             Pclass                                          Name     Sex   Age  SibSp  Parch   Ticket     Fare Cabin Embarked\n",
      "PassengerId                                                                                                                   \n",
      "892               3                              Kelly, Mr. James    male  34.5      0      0   330911   7.8292   NaN        Q\n",
      "893               3              Wilkes, Mrs. James (Ellen Needs)  female  47.0      1      0   363272   7.0000   NaN        S\n",
      "894               2                     Myles, Mr. Thomas Francis    male  62.0      0      0   240276   9.6875   NaN        Q\n",
      "895               3                              Wirz, Mr. Albert    male  27.0      0      0   315154   8.6625   NaN        S\n",
      "896               3  Hirvonen, Mrs. Alexander (Helga E Lindqvist)  female  22.0      1      1  3101298  12.2875   NaN        S\n"
     ]
    }
   ],
   "source": [
    "print(test.head())"
   ]
  },
  {
   "cell_type": "markdown",
   "metadata": {},
   "source": [
    "### One can see that the name column has more information than only the name, specifically, a title. \n",
    "### With regular expressions (ReGex) and the extract method we can isolate the title in a new column"
   ]
  },
  {
   "cell_type": "code",
   "execution_count": 4,
   "metadata": {},
   "outputs": [
    {
     "name": "stdout",
     "output_type": "stream",
     "text": [
      "Mr.          517\n",
      "Miss.        182\n",
      "Mrs.         125\n",
      "Master.       40\n",
      "Dr.            7\n",
      "Rev.           6\n",
      "Mlle.          2\n",
      "Major.         2\n",
      "Col.           2\n",
      "Countess.      1\n",
      "Capt.          1\n",
      "Ms.            1\n",
      "Sir.           1\n",
      "Lady.          1\n",
      "Mme.           1\n",
      "Don.           1\n",
      "Jonkheer.      1\n",
      "Name: Title, dtype: int64\n",
      "17\n"
     ]
    }
   ],
   "source": [
    "train['Title'] = train.Name.str.extract('([a-zA-Z]+\\.)')\n",
    "print(train.Title.value_counts())\n",
    "print(train.Title.nunique())\n"
   ]
  },
  {
   "cell_type": "markdown",
   "metadata": {},
   "source": [
    "### These are the titles in the train dataset. We have 17 different titles. Now we must check the test dataset as well, to see if there is other titles"
   ]
  },
  {
   "cell_type": "code",
   "execution_count": 5,
   "metadata": {},
   "outputs": [
    {
     "name": "stdout",
     "output_type": "stream",
     "text": [
      "Mr.        240\n",
      "Miss.       78\n",
      "Mrs.        72\n",
      "Master.     21\n",
      "Col.         2\n",
      "Rev.         2\n",
      "Ms.          1\n",
      "Dr.          1\n",
      "Dona.        1\n",
      "Name: Title, dtype: int64\n",
      "9\n"
     ]
    }
   ],
   "source": [
    "test['Title'] = test.Name.str.extract('([a-zA-Z]+\\.)')\n",
    "print(test.Title.value_counts())\n",
    "print(test.Title.nunique())\n"
   ]
  },
  {
   "cell_type": "markdown",
   "metadata": {},
   "source": [
    "### There are 18 possible values for the title (17 from the train dataset plus the Dona title in the test dataset), but the first four of these values correspond to more than 95% of the entries. <br>\n",
    "### As I intend to use one-hot-encoder, I will group the other 14 values in the category \"other\", thus reducing from 18 titles to only 5.\n"
   ]
  },
  {
   "cell_type": "code",
   "execution_count": 6,
   "metadata": {},
   "outputs": [
    {
     "name": "stdout",
     "output_type": "stream",
     "text": [
      "['Mr.' 'Mrs.' 'Miss.' 'Master.' 'Other']\n"
     ]
    }
   ],
   "source": [
    "valid_titles = ['Mr.','Miss.', 'Mrs.', 'Master.']\n",
    "\n",
    "train.loc[~train.Title.isin(valid_titles),'Title']='Other'\n",
    "test.loc[~test.Title.isin(valid_titles),'Title']='Other'\n",
    "print (train.Title.unique())\n"
   ]
  },
  {
   "cell_type": "markdown",
   "metadata": {},
   "source": [
    "### Now, we are going to check if there is any missing value"
   ]
  },
  {
   "cell_type": "code",
   "execution_count": 7,
   "metadata": {},
   "outputs": [
    {
     "name": "stdout",
     "output_type": "stream",
     "text": [
      "Survived      0\n",
      "Pclass        0\n",
      "Name          0\n",
      "Sex           0\n",
      "Age         177\n",
      "SibSp         0\n",
      "Parch         0\n",
      "Ticket        0\n",
      "Fare          0\n",
      "Cabin       687\n",
      "Embarked      2\n",
      "Title         0\n",
      "dtype: int64 \n",
      "\n",
      "\n",
      "Pclass        0\n",
      "Name          0\n",
      "Sex           0\n",
      "Age          86\n",
      "SibSp         0\n",
      "Parch         0\n",
      "Ticket        0\n",
      "Fare          1\n",
      "Cabin       327\n",
      "Embarked      0\n",
      "Title         0\n",
      "dtype: int64\n"
     ]
    }
   ],
   "source": [
    "print(train.isnull().sum(),'\\n\\n')\n",
    "print(test.isnull().sum())"
   ]
  },
  {
   "cell_type": "markdown",
   "metadata": {},
   "source": [
    "### We must handle missing values in 4 categories: age, fare, cabin and embarked. We will start with the cabin column"
   ]
  },
  {
   "cell_type": "code",
   "execution_count": 8,
   "metadata": {},
   "outputs": [
    {
     "name": "stdout",
     "output_type": "stream",
     "text": [
      "             Pclass        Cabin\n",
      "PassengerId                     \n",
      "2                 1          C85\n",
      "4                 1         C123\n",
      "7                 1          E46\n",
      "11                3           G6\n",
      "12                1         C103\n",
      "...             ...          ...\n",
      "872               1          D35\n",
      "873               1  B51 B53 B55\n",
      "880               1          C50\n",
      "888               1          B42\n",
      "890               1         C148\n",
      "\n",
      "[204 rows x 2 columns]\n",
      "[nan 'C85' 'C123' 'E46' 'G6' 'C103' 'D56' 'A6' 'C23 C25 C27' 'B78' 'D33'\n",
      " 'B30' 'C52' 'B28' 'C83' 'F33' 'F G73' 'E31' 'A5' 'D10 D12' 'D26' 'C110'\n",
      " 'B58 B60' 'E101' 'F E69' 'D47' 'B86' 'F2' 'C2' 'E33' 'B19' 'A7' 'C49'\n",
      " 'F4' 'A32' 'B4' 'B80' 'A31' 'D36' 'D15' 'C93' 'C78' 'D35' 'C87' 'B77'\n",
      " 'E67' 'B94' 'C125' 'C99' 'C118' 'D7' 'A19' 'B49' 'D' 'C22 C26' 'C106'\n",
      " 'C65' 'E36' 'C54' 'B57 B59 B63 B66' 'C7' 'E34' 'C32' 'B18' 'C124' 'C91'\n",
      " 'E40' 'T' 'C128' 'D37' 'B35' 'E50' 'C82' 'B96 B98' 'E10' 'E44' 'A34'\n",
      " 'C104' 'C111' 'C92' 'E38' 'D21' 'E12' 'E63' 'A14' 'B37' 'C30' 'D20' 'B79'\n",
      " 'E25' 'D46' 'B73' 'C95' 'B38' 'B39' 'B22' 'C86' 'C70' 'A16' 'C101' 'C68'\n",
      " 'A10' 'E68' 'B41' 'A20' 'D19' 'D50' 'D9' 'A23' 'B50' 'A26' 'D48' 'E58'\n",
      " 'C126' 'B71' 'B51 B53 B55' 'D49' 'B5' 'B20' 'F G63' 'C62 C64' 'E24' 'C90'\n",
      " 'C45' 'E8' 'B101' 'D45' 'C46' 'D30' 'E121' 'D11' 'E77' 'F38' 'B3' 'D6'\n",
      " 'B82 B84' 'D17' 'A36' 'B102' 'B69' 'E49' 'C47' 'D28' 'E17' 'A24' 'C50'\n",
      " 'B42' 'C148']\n",
      "147\n"
     ]
    }
   ],
   "source": [
    "print (train.loc[~train.Cabin.isnull(),['Pclass','Cabin']])\n",
    "print(train.Cabin.unique())\n",
    "print(train.Cabin.nunique())\n"
   ]
  },
  {
   "cell_type": "markdown",
   "metadata": {},
   "source": [
    "### As we can see, the cabin is formed by one letter + a number. There are 147 different entries, so we can extract the letter and exclude the number, leaving us with 26 entries at maximum (the letters of the alphabet)\n",
    "### Again, the ReGex can be used to easily extract just the letter from the rows in the column"
   ]
  },
  {
   "cell_type": "code",
   "execution_count": 9,
   "metadata": {},
   "outputs": [
    {
     "name": "stdout",
     "output_type": "stream",
     "text": [
      "Unique values in the train set: [nan 'C' 'E' 'G' 'D' 'A' 'B' 'F' 'T']\n",
      "Unique values in the test set: [nan 'B' 'E' 'A' 'C' 'D' 'F' 'G']\n",
      "Number of unique values: 8\n"
     ]
    }
   ],
   "source": [
    "train['Cabin'] = train.Cabin.str.extract('(^[a-mo-zA-MO-Z])')\n",
    "test['Cabin'] = test.Cabin.str.extract('(^[a-mo-zA-MO-Z])')\n",
    "\n",
    "print('Unique values in the train set: {}'.format(train.Cabin.unique()))\n",
    "print('Unique values in the test set: {}'.format(test.Cabin.unique()))\n",
    "print('Number of unique values: {}'.format(train.Cabin.nunique()))\n"
   ]
  },
  {
   "cell_type": "markdown",
   "metadata": {},
   "source": [
    "### Now we are down to only 8 different categories, including a 'NaN' category, that we will handle soon."
   ]
  },
  {
   "cell_type": "code",
   "execution_count": 10,
   "metadata": {},
   "outputs": [
    {
     "name": "stdout",
     "output_type": "stream",
     "text": [
      "PassengerId\n",
      "1      NaN\n",
      "3      NaN\n",
      "5      NaN\n",
      "6      NaN\n",
      "8      NaN\n",
      "      ... \n",
      "885    NaN\n",
      "886    NaN\n",
      "887    NaN\n",
      "889    NaN\n",
      "891    NaN\n",
      "Name: Cabin, Length: 687, dtype: object \n",
      "\n",
      "\n",
      "PassengerId\n",
      "2      C\n",
      "4      C\n",
      "7      E\n",
      "11     G\n",
      "12     C\n",
      "      ..\n",
      "872    D\n",
      "873    B\n",
      "880    C\n",
      "888    B\n",
      "890    C\n",
      "Name: Cabin, Length: 204, dtype: object\n"
     ]
    }
   ],
   "source": [
    "print(train.loc[train.Cabin.isnull(),'Cabin'],'\\n\\n')\n",
    "print(train.loc[~train.Cabin.isnull(),'Cabin'])"
   ]
  },
  {
   "cell_type": "markdown",
   "metadata": {},
   "source": [
    "### For the handling of the NaN entries, they will be grouped in a \"No Cabin\" group"
   ]
  },
  {
   "cell_type": "code",
   "execution_count": 11,
   "metadata": {},
   "outputs": [
    {
     "name": "stdout",
     "output_type": "stream",
     "text": [
      "             Survived  Pclass                                               Name     Sex   Age  SibSp  Parch            Ticket     Fare     Cabin Embarked  Title\n",
      "PassengerId                                                                                                                                                      \n",
      "1                   0       3                            Braund, Mr. Owen Harris    male  22.0      1      0         A/5 21171   7.2500  No Cabin        S    Mr.\n",
      "2                   1       1  Cumings, Mrs. John Bradley (Florence Briggs Th...  female  38.0      1      0          PC 17599  71.2833         C        C   Mrs.\n",
      "3                   1       3                             Heikkinen, Miss. Laina  female  26.0      0      0  STON/O2. 3101282   7.9250  No Cabin        S  Miss.\n",
      "4                   1       1       Futrelle, Mrs. Jacques Heath (Lily May Peel)  female  35.0      1      0            113803  53.1000         C        S   Mrs.\n",
      "5                   0       3                           Allen, Mr. William Henry    male  35.0      0      0            373450   8.0500  No Cabin        S    Mr.\n",
      "0\n"
     ]
    }
   ],
   "source": [
    "train.loc[train.Cabin.isnull(),'Cabin'] = \"No Cabin\"\n",
    "test.loc[test.Cabin.isnull(),'Cabin'] = \"No Cabin\"\n",
    "print(train.head())\n",
    "print(train.Cabin.isnull().sum())"
   ]
  },
  {
   "cell_type": "markdown",
   "metadata": {},
   "source": [
    "### From the \"train.isnull()\" section that is way above, we saw that there are 177 age entries missing and from \"test.isnull()\", 86. So we need to think the best way to deal with it\n",
    "### Let's analyse our alternatives. We can calculate the mean age using two approachs: first, calculating the age mean by sex; second, using the class category"
   ]
  },
  {
   "cell_type": "code",
   "execution_count": 12,
   "metadata": {},
   "outputs": [
    {
     "name": "stdout",
     "output_type": "stream",
     "text": [
      "Mean age value for sex\n",
      "male: 30.73\n",
      "female: 27.92\n",
      "\n",
      "Mean age value for class\n",
      "3 class: 25.14\n",
      "1 class: 38.23\n",
      "2 class: 29.88\n"
     ]
    }
   ],
   "source": [
    "mean_age = {}\n",
    "\n",
    "print('Mean age value for sex')\n",
    "for sex in train.Sex.unique():\n",
    "    print ('{}: {:.2f}'.format(sex,train.loc[train.Sex == sex,'Age'].mean()))\n",
    "    mean_age[sex] = []\n",
    "    mean_age[sex].append(train.loc[train.Sex == sex,'Age'].mean())\n",
    "\n",
    "print('\\nMean age value for class')\n",
    "\n",
    "for pclass in train.Pclass.unique():\n",
    "    print ('{} class: {:.2f}'.format(pclass,train.loc[train.Pclass == pclass,'Age'].mean()))\n",
    "    mean_age[pclass] = train.loc[train.Pclass == pclass,'Age'].mean()\n",
    "\n"
   ]
  },
  {
   "cell_type": "markdown",
   "metadata": {},
   "source": [
    "### As we can see, there is no big difference between the mean age value for male and female, but there is some between the classes, where the higher classes tend to have a higher mean age.<br> This could be explained by the fact that older people had more time to accumulate money, thus willing to pay more for the ticket. We will use this information to fill the NaN entries, as it seems more detailed"
   ]
  },
  {
   "cell_type": "code",
   "execution_count": 13,
   "metadata": {},
   "outputs": [
    {
     "name": "stdout",
     "output_type": "stream",
     "text": [
      "count    891.000000\n",
      "mean      29.292875\n",
      "std       13.210527\n",
      "min        0.420000\n",
      "25%       22.000000\n",
      "50%       26.000000\n",
      "75%       37.000000\n",
      "max       80.000000\n",
      "Name: Age, dtype: float64\n"
     ]
    }
   ],
   "source": [
    "age_condition_train = train.Age.isnull()\n",
    "age_condition_test = test.Age.isnull()\n",
    "\n",
    "for pclass in train.Pclass.unique():\n",
    "    class_condition = train.Pclass == pclass\n",
    "    train.loc[age_condition_train & class_condition,'Age'] = mean_age[pclass]\n",
    "\n",
    "for pclass in test.Pclass.unique():\n",
    "    class_condition = test.Pclass == pclass\n",
    "    test.loc[age_condition_test & class_condition,'Age'] = mean_age[pclass]\n",
    "\n",
    "print(train.Age.describe())"
   ]
  },
  {
   "cell_type": "markdown",
   "metadata": {},
   "source": [
    "### Now we don't have any age entry as NaN. We still have two missing values, namely in the Embarked column, in the train set, and one fare missing value, in the test set.<br> There is just 2/891 = 0.22% of missing values now, and they are categorical entries, in such case, it would be better to just drop them"
   ]
  },
  {
   "cell_type": "code",
   "execution_count": 14,
   "metadata": {},
   "outputs": [
    {
     "name": "stdout",
     "output_type": "stream",
     "text": [
      "Survived    0\n",
      "Pclass      0\n",
      "Name        0\n",
      "Sex         0\n",
      "Age         0\n",
      "SibSp       0\n",
      "Parch       0\n",
      "Ticket      0\n",
      "Fare        0\n",
      "Cabin       0\n",
      "Embarked    0\n",
      "Title       0\n",
      "dtype: int64 \n",
      "\n",
      "Pclass      0\n",
      "Name        0\n",
      "Sex         0\n",
      "Age         0\n",
      "SibSp       0\n",
      "Parch       0\n",
      "Ticket      0\n",
      "Fare        0\n",
      "Cabin       0\n",
      "Embarked    0\n",
      "Title       0\n",
      "dtype: int64\n"
     ]
    }
   ],
   "source": [
    "train.dropna(inplace=True)\n",
    "test.fillna(test.mode().loc[0],inplace=True)\n",
    "print(train.isnull().sum(),'\\n')\n",
    "print(test.isnull().sum())"
   ]
  },
  {
   "cell_type": "markdown",
   "metadata": {},
   "source": [
    "### Now that the data was cleaned, we can start analysing it\n",
    "### Let's start analysing our target (survival) among different categories"
   ]
  },
  {
   "cell_type": "code",
   "execution_count": 15,
   "metadata": {},
   "outputs": [
    {
     "name": "stdout",
     "output_type": "stream",
     "text": [
      "maleSurvival, maleTotal, femaleSurvival, femaleTotal, 3ClassSurvival, 3ClassTotal, 1ClassSurvival, 1ClassTotal, 2ClassSurvival, 2ClassTotal, SPortSurvival, SPortTotal, CPortSurvival, CPortTotal, QPortSurvival, QPortTotal, CabinNo CabinSurvival, totalCabinNo Cabin, CabinCSurvival, totalCabinC, CabinESurvival, totalCabinE, CabinGSurvival, totalCabinG, CabinDSurvival, totalCabinD, CabinASurvival, totalCabinA, CabinBSurvival, totalCabinB, CabinFSurvival, totalCabinF, CabinTSurvival, totalCabinT, "
     ]
    }
   ],
   "source": [
    "legendDict = {}\n",
    "\n",
    "for sex in train.Sex.unique():\n",
    "    legendDict[sex+'Survival'] = ((train.Survived == 1) & (train.Sex == sex)).sum()\n",
    "    legendDict[sex+'Total'] = (train.Sex == sex).sum()\n",
    "\n",
    "for pclass in train.Pclass.unique():\n",
    "    i = str(pclass)\n",
    "    legendDict[i+'ClassSurvival'] = ((train.Survived == 1) & (train.Pclass == pclass)).sum()\n",
    "    legendDict[i+'ClassTotal'] = (train.Pclass == pclass).sum()   \n",
    "\n",
    "for port in train.Embarked.unique():\n",
    "    legendDict[port+'PortSurvival'] = ((train.Survived == 1) & (train.Embarked == port)).sum()\n",
    "    legendDict[port+'PortTotal'] = (train.Embarked == port).sum()  \n",
    "\n",
    "for cabin in train.Cabin.unique():\n",
    "    legendDict['Cabin'+cabin+'Survival'] = ((train.Survived == 1) & (train.Cabin == cabin)).sum()\n",
    "    legendDict['totalCabin' + cabin] = (train.Cabin == cabin).sum()  \n",
    "    \n",
    "for key in legendDict.keys():\n",
    "    print(key,end=', ')\n"
   ]
  },
  {
   "cell_type": "code",
   "execution_count": 16,
   "metadata": {},
   "outputs": [
    {
     "name": "stdout",
     "output_type": "stream",
     "text": [
      "----------------------------------------------------------General Survival-----------------------------------------------------------\n",
      "Total that survived: 340 \t Total that did not survive: 549 \n",
      "Rate of survival:   38.25% \t Rate of not survival:      61.75%\n"
     ]
    },
    {
     "data": {
      "image/png": "[encoded data removed]",
      "text/plain": [
       "<Figure size 360x360 with 1 Axes>"
      ]
     },
     "metadata": {
      "needs_background": "light"
     },
     "output_type": "display_data"
    },
    {
     "name": "stdout",
     "output_type": "stream",
     "text": [
      "---------------------------------------------------------Survival by Gender----------------------------------------------------------\n",
      "Males that survived:    109 \t Females that survived:    231 \n",
      "Rate of male survival: 18.89% \t Rate of female survival: 74.04%\n"
     ]
    },
    {
     "data": {
      "image/png": "[encoded data removed]",
      "text/plain": [
       "<Figure size 360x360 with 1 Axes>"
      ]
     },
     "metadata": {
      "needs_background": "light"
     },
     "output_type": "display_data"
    },
    {
     "name": "stdout",
     "output_type": "stream",
     "text": [
      "----------------------------------------------------------Survival by Class----------------------------------------------------------\n",
      "Upper Class that survived:      134 \t Middle Class that survived:      87 \t Lower Class that survived:      119\n",
      "Rate of Upper Class survival: 62.62% \t Rate of Middle Class Survival: 47.28% \t Rate of Middle Class Survival: 24.24%\n"
     ]
    },
    {
     "data": {
      "image/png": "[encoded data removed]",
      "text/plain": [
       "<Figure size 360x360 with 1 Axes>"
      ]
     },
     "metadata": {
      "needs_background": "light"
     },
     "output_type": "display_data"
    },
    {
     "name": "stdout",
     "output_type": "stream",
     "text": [
      "---------------------------------------------------Survival by Port of Embarkation---------------------------------------------------\n",
      "Cherbourg Port Survival:           93 \t\t Queenstown Port Survival:           30 \t Southampton Port Survival:      217\n",
      "Rate of Cherbourg Port survival: 55.36% \t Rate of Queenstown Port Survival: 38.96% \t Rate of Southampton Survival: 33.70%\n"
     ]
    },
    {
     "data": {
      "image/png": "[encoded data removed]",
      "text/plain": [
       "<Figure size 360x360 with 1 Axes>"
      ]
     },
     "metadata": {
      "needs_background": "light"
     },
     "output_type": "display_data"
    },
    {
     "name": "stdout",
     "output_type": "stream",
     "text": [
      "----------------------------------------------------------Survival by Cabin----------------------------------------------------------\n",
      "Cherbourg Port Survival:           93 \t\t Queenstown Port Survival:           30 \t Southampton Port Survival:      217\n",
      "Rate of Cherbourg Port survival: 55.36% \t Rate of Queenstown Port Survival: 38.96% \t Rate of Southampton Survival: 33.70%\n"
     ]
    },
    {
     "data": {
      "image/png": "[encoded data removed]",
      "text/plain": [
       "<Figure size 360x360 with 1 Axes>"
      ]
     },
     "metadata": {
      "needs_background": "light"
     },
     "output_type": "display_data"
    }
   ],
   "source": [
    "totalSurvived = (train.Survived == 1).sum()\n",
    "totalDied = (train.Survived == 0).sum()\n",
    "\n",
    "print('{:-^133}'.format('General Survival'))\n",
    "print('Total that survived: {} \\t Total that did not survive: {} \\nRate of survival: {:>8.2%} \\t Rate of not survival: {:>11.2%}'.format(totalSurvived,totalDied, totalSurvived/(totalSurvived+totalDied),\\\n",
    "                                                                                                                                           totalDied/(totalSurvived+totalDied)))\n",
    "\n",
    "\n",
    "sns.catplot(hue=\"Survived\", kind=\"count\", x = \"Survived\", palette=\"dark\", data=train, legend = False).set(xlabel=None, ylabel = 'Passengers')\n",
    "plt.legend( loc='upper right', labels=['Died', 'Survived'])\n",
    "plt.title('General Survival')\n",
    "plt.show()\n",
    "\n",
    "print('{:-^133}'.format('Survival by Gender'))\n",
    "print('Males that survived: {:>6} \\t Females that survived: {:>6} \\nRate of male survival: {:.2%} \\t Rate of female survival: {:.2%}'.format(legendDict['maleSurvival'],legendDict['femaleSurvival'], \\\n",
    "                                                                                                                   legendDict['maleSurvival']/legendDict['maleTotal'],legendDict['femaleSurvival']/legendDict['femaleTotal']))\n",
    "\n",
    "sns.catplot(hue=\"Survived\", kind=\"count\", x = \"Sex\", palette=\"dark\", data=train, legend = False).set(xlabel=None, ylabel = 'Passengers')\n",
    "plt.legend( loc='upper right', labels=['Died', 'Survived'])\n",
    "plt.title('Survival by Gender')\n",
    "plt.show()\n",
    "\n",
    "\n",
    "print('{:-^133}'.format('Survival by Class'))\n",
    "print('Upper Class that survived: {:>8} \\t Middle Class that survived: {:>7} \\t Lower Class that survived: {:>8}'.format(legendDict['1ClassSurvival'],legendDict['2ClassSurvival'],legendDict['3ClassSurvival']))\n",
    "print('Rate of Upper Class survival: {:.2%} \\t Rate of Middle Class Survival: {:.2%} \\t Rate of Middle Class Survival: {:.2%}'.format(legendDict['1ClassSurvival']/legendDict['1ClassTotal'],\\\n",
    "    legendDict['2ClassSurvival']/legendDict['2ClassTotal'],legendDict['3ClassSurvival']/legendDict['3ClassTotal']))\n",
    "        \n",
    "\n",
    "sns.catplot(hue=\"Survived\", kind=\"count\", x = \"Pclass\", palette=\"dark\", data=train,legend=False).set(xlabel=None, ylabel = 'Passengers')\n",
    "plt.legend( loc='upper left', labels=['Died', 'Survived'])\n",
    "plt.title('Survival by Passenger Class')\n",
    "plt.show()\n",
    "\n",
    "print('{:-^133}'.format('Survival by Port of Embarkation'))\n",
    "print('Cherbourg Port Survival: {:>12} \\t\\t Queenstown Port Survival: {:>12} \\t Southampton Port Survival: {:>8}'\\\n",
    "        .format(legendDict['CPortSurvival'],legendDict['QPortSurvival'],legendDict['SPortSurvival']))\n",
    "print('Rate of Cherbourg Port survival: {:.2%} \\t Rate of Queenstown Port Survival: {:.2%} \\t Rate of Southampton Survival: {:.2%}'.format(legendDict['CPortSurvival']/legendDict['CPortTotal'],\\\n",
    "    legendDict['QPortSurvival']/legendDict['QPortTotal'],legendDict['SPortSurvival']/legendDict['SPortTotal']))\n",
    "        \n",
    "\n",
    "sns.catplot(hue=\"Survived\", kind=\"count\", x = \"Embarked\", palette=\"dark\", data=train,legend=False).set(xlabel=None, ylabel = 'Passengers')\n",
    "plt.legend( loc='upper right', labels=['Died', 'Survived'])\n",
    "plt.title('Survival by Port of Embarkation')\n",
    "plt.show()\n",
    "\n",
    "\n",
    "print('{:-^133}'.format('Survival by Cabin'))\n",
    "print('Cherbourg Port Survival: {:>12} \\t\\t Queenstown Port Survival: {:>12} \\t Southampton Port Survival: {:>8}'\\\n",
    "        .format(legendDict['CPortSurvival'],legendDict['QPortSurvival'],legendDict['SPortSurvival']))\n",
    "print('Rate of Cherbourg Port survival: {:.2%} \\t Rate of Queenstown Port Survival: {:.2%} \\t Rate of Southampton Survival: {:.2%}'.format(legendDict['CPortSurvival']/legendDict['CPortTotal'],\\\n",
    "    legendDict['QPortSurvival']/legendDict['QPortTotal'],legendDict['SPortSurvival']/legendDict['SPortTotal']))\n",
    "        \n",
    "\n",
    "sns.catplot(hue=\"Survived\", kind=\"count\", x = \"Embarked\", palette=\"dark\", data=train,legend=False).set(xlabel=None, ylabel = 'Passengers')\n",
    "plt.legend( loc='upper right', labels=['Died', 'Survived'])\n",
    "plt.title('Survival by Port of Embarkation')\n",
    "plt.show()"
   ]
  },
  {
   "cell_type": "markdown",
   "metadata": {},
   "source": [
    "### As we can see, the majority of the females passenger survived, whereas the majority of males died. In the general view, 60% of the people survived. <br>\n",
    "### Concerning the analysis by classes, we can notice that the higher the class, the higher the survival rate, where the chance of surviving if you are in the first class is more than the double if you were in the third class.<br>\n",
    "### There is some difference of survival rate between the ports, but not so distributed as the class and gender divisions\n",
    "### Next we will see the division by Cabin."
   ]
  },
  {
   "cell_type": "code",
   "execution_count": 17,
   "metadata": {},
   "outputs": [
    {
     "name": "stdout",
     "output_type": "stream",
     "text": [
      "Total of people with no Cabin: 687\t\t Total Survival within no Cabin: 206\t\t Rate of Survival within no Cabin: 29.99%\n",
      "Total of people in Cabin C:    59\t\t Total Survival in Cabin C:       35\t\t Rate of Survival in Cabin C:      59.32%\n",
      "Total of people in Cabin E:    32\t\t Total Survival in Cabin E:       24\t\t Rate of Survival in Cabin E:      75.00%\n",
      "Total of people in Cabin G:     4\t\t Total Survival in Cabin G:        2\t\t Rate of Survival in Cabin G:      50.00%\n",
      "Total of people in Cabin D:    33\t\t Total Survival in Cabin D:       25\t\t Rate of Survival in Cabin D:      75.76%\n",
      "Total of people in Cabin A:    15\t\t Total Survival in Cabin A:        7\t\t Rate of Survival in Cabin A:      46.67%\n",
      "Total of people in Cabin B:    45\t\t Total Survival in Cabin B:       33\t\t Rate of Survival in Cabin B:      73.33%\n",
      "Total of people in Cabin F:    13\t\t Total Survival in Cabin F:        8\t\t Rate of Survival in Cabin F:      61.54%\n",
      "Total of people in Cabin T:     1\t\t Total Survival in Cabin T:        0\t\t Rate of Survival in Cabin T:       0.00%\n"
     ]
    },
    {
     "data": {
      "image/png": "[encoded data removed]",
      "text/plain": [
       "<Figure size 360x360 with 1 Axes>"
      ]
     },
     "metadata": {
      "needs_background": "light"
     },
     "output_type": "display_data"
    }
   ],
   "source": [
    "for cabin in train.Cabin.unique():\n",
    "    totalCabin = (train.Cabin==cabin).sum()\n",
    "    if cabin == 'No Cabin':\n",
    "        # print('Total Survival within no Cabin: {}\\t\\t Rate of Survival within no Cabin: {:.2%}'.format(legendDict['Cabin'+cabin+'Survival'],legendDict['Cabin'+cabin+'Survival']/totalCabin))\n",
    "        print('Total of people with no Cabin: {}\\t\\t Total Survival within no Cabin: {}\\t\\t Rate of Survival within no Cabin: {:.2%}'.format(totalCabin,legendDict['Cabin'+cabin+'Survival'],legendDict['Cabin'+cabin+'Survival']/totalCabin))\n",
    "    else:\n",
    "        print('Total of people in Cabin {cabin}: {:>5}\\t\\t Total Survival in Cabin {cabin}: {:>8}\\t\\t Rate of Survival in Cabin {cabin}: {:>11.2%}'.format(totalCabin,legendDict['Cabin'+cabin+'Survival'],\\\n",
    "                                                                                                                                                legendDict['Cabin'+cabin+'Survival']/totalCabin,cabin=cabin))\n",
    "        \n",
    "\n",
    "sns.catplot(hue=\"Survived\", kind=\"count\", x = \"Cabin\", palette=\"dark\", data=train,legend=False).set(xlabel=None, ylabel = 'Passengers')\n",
    "plt.legend( loc='upper right', labels=['Died', 'Survived'])\n",
    "plt.title('Survival by Cabin')\n",
    "plt.show()"
   ]
  },
  {
   "cell_type": "markdown",
   "metadata": {},
   "source": [
    "### From what we can see, people who were in any cabin, excluding cabin A and T, had 50% or more chance of surviving.<br> The people with no cabin had the least change of survival (the T cabin is not considered because the small sample size)"
   ]
  },
  {
   "cell_type": "markdown",
   "metadata": {},
   "source": [
    "# Starting the Machine Learning Model"
   ]
  },
  {
   "cell_type": "markdown",
   "metadata": {},
   "source": [
    "### As we have a ratio of 60/40 of the possibles output, we will start the analysis without any adjustment in the set and see how it will behave\n",
    "### First, we need to address the problem of categorical columns. We will use the One Hot Encoder preprocessing tool"
   ]
  },
  {
   "cell_type": "code",
   "execution_count": 18,
   "metadata": {},
   "outputs": [
    {
     "name": "stdout",
     "output_type": "stream",
     "text": [
      "Index(['Name', 'Sex', 'Ticket', 'Cabin', 'Embarked', 'Title'], dtype='object')\n"
     ]
    }
   ],
   "source": [
    "print(train.select_dtypes('object').columns)"
   ]
  },
  {
   "cell_type": "markdown",
   "metadata": {},
   "source": [
    "### We don't need the Name and Ticket columns for our analysis, so we are going to just drop them"
   ]
  },
  {
   "cell_type": "code",
   "execution_count": 19,
   "metadata": {},
   "outputs": [],
   "source": [
    "train.drop(['Name','Ticket'],axis=1,inplace=True)\n",
    "test.drop(['Name','Ticket'],axis=1,inplace=True)"
   ]
  },
  {
   "cell_type": "markdown",
   "metadata": {},
   "source": [
    "### The test dataset has no column \"Survived\", so we cannot test the accuracy of our model. The solution will be spliting the train dataset into train and test dataset, that we will name it with the prefix val (from validation dataset)"
   ]
  },
  {
   "cell_type": "code",
   "execution_count": 20,
   "metadata": {},
   "outputs": [
    {
     "name": "stdout",
     "output_type": "stream",
     "text": [
      "             Pclass       Age  SibSp  Parch      Fare    0    1    2    3    4  ...    8    9   10   11   12   13   14   15   16   17\n",
      "PassengerId                                                                     ...                                                  \n",
      "319               1  31.00000      0      2  164.8667  1.0  0.0  0.0  0.0  1.0  ...  0.0  0.0  0.0  0.0  1.0  0.0  1.0  0.0  0.0  0.0\n",
      "706               2  39.00000      0      0   26.0000  0.0  1.0  0.0  0.0  0.0  ...  0.0  1.0  0.0  0.0  1.0  0.0  0.0  1.0  0.0  0.0\n",
      "348               3  25.14062      1      0   16.1000  1.0  0.0  0.0  0.0  0.0  ...  0.0  1.0  0.0  0.0  1.0  0.0  0.0  0.0  1.0  0.0\n",
      "491               3  25.14062      1      0   19.9667  0.0  1.0  0.0  0.0  0.0  ...  0.0  1.0  0.0  0.0  1.0  0.0  0.0  1.0  0.0  0.0\n",
      "442               3  20.00000      0      0    9.5000  0.0  1.0  0.0  0.0  0.0  ...  0.0  1.0  0.0  0.0  1.0  0.0  0.0  1.0  0.0  0.0\n",
      "\n",
      "[5 rows x 23 columns]\n",
      "             Pclass       Age  SibSp  Parch      Fare    0    1    2    3    4  ...    8    9   10   11   12   13   14   15   16   17\n",
      "PassengerId                                                                     ...                                                  \n",
      "15                3  14.00000      0      0    7.8542  1.0  0.0  0.0  0.0  0.0  ...  0.0  1.0  0.0  0.0  1.0  0.0  1.0  0.0  0.0  0.0\n",
      "160               3  25.14062      8      2   69.5500  0.0  1.0  0.0  0.0  0.0  ...  0.0  1.0  0.0  0.0  1.0  1.0  0.0  0.0  0.0  0.0\n",
      "764               1  36.00000      1      2  120.0000  1.0  0.0  0.0  1.0  0.0  ...  0.0  0.0  0.0  0.0  1.0  0.0  0.0  0.0  1.0  0.0\n",
      "742               1  36.00000      1      0   78.8500  0.0  1.0  0.0  0.0  1.0  ...  0.0  0.0  0.0  0.0  1.0  0.0  0.0  1.0  0.0  0.0\n",
      "484               3  63.00000      0      0    9.5875  1.0  0.0  0.0  0.0  0.0  ...  0.0  1.0  0.0  0.0  1.0  0.0  0.0  0.0  1.0  0.0\n",
      "\n",
      "[5 rows x 23 columns]\n"
     ]
    }
   ],
   "source": [
    "from sklearn.preprocessing import OneHotEncoder\n",
    "from sklearn.model_selection import train_test_split\n",
    "\n",
    "y = train.Survived\n",
    "X = train.drop('Survived',axis=1)\n",
    "\n",
    "train_X, val_X, train_y, val_y = train_test_split(X, y, random_state = 0)\n",
    "\n",
    "labelCol = list(train.select_dtypes('object').columns)\n",
    "\n",
    "OHEncoder = OneHotEncoder(sparse=False,handle_unknown='ignore')\n",
    "\n",
    "OHTrainCols = pd.DataFrame(OHEncoder.fit_transform(train_X[labelCol]))\n",
    "OhTestCols = pd.DataFrame(OHEncoder.transform(val_X[labelCol]))\n",
    "\n",
    "OHTrainCols.index = train_X.index\n",
    "OhTestCols.index = val_X.index\n",
    "\n",
    "train_X.drop(labelCol,axis=1,inplace=True)\n",
    "val_X.drop(labelCol,axis=1,inplace=True)\n",
    "\n",
    "train_X = pd.concat([train_X,OHTrainCols],axis=1)\n",
    "val_X = pd.concat([val_X,OhTestCols],axis=1)\n",
    "\n",
    "print(train_X.head())\n",
    "print(val_X.head())"
   ]
  },
  {
   "cell_type": "markdown",
   "metadata": {},
   "source": [
    "### The one-hot-encoding method has added 18-4 = 14 columns (2 columns for sex, 8 columns for cabin, 3 columns for embarked and 5 columns for title. The original columns were removed, hence 18-4 new columns)\n",
    "### Now there is only left numerical columns we can start using the ML models in our data. For the first try we will use the Extreme Randomized Tree and won't change any parameter"
   ]
  },
  {
   "cell_type": "code",
   "execution_count": 21,
   "metadata": {},
   "outputs": [],
   "source": [
    "from sklearn.ensemble import ExtraTreesClassifier\n",
    "\n",
    "model = ExtraTreesClassifier(random_state=0)\n",
    "model.fit(train_X.values,train_y)\n",
    "\n",
    "pred = model.predict(val_X.values)\n"
   ]
  },
  {
   "cell_type": "markdown",
   "metadata": {},
   "source": [
    "### Now with the prediction of the results for the validation X values, we can import the confusion matrix and see how well the model did."
   ]
  },
  {
   "cell_type": "code",
   "execution_count": 22,
   "metadata": {},
   "outputs": [
    {
     "name": "stdout",
     "output_type": "stream",
     "text": [
      "Number of correct prediction: 180\t Accuracy:       80.72%\n",
      "True negative:                113\t False positive:  19\n",
      "False negative:                24\t True positive:   67\n",
      "Precision:                    0.78\t Recall:         0.74\n",
      "F-score:                      0.76\n"
     ]
    }
   ],
   "source": [
    "from sklearn.metrics import confusion_matrix\n",
    "\n",
    "tn, fp, fn, tp = confusion_matrix(val_y,pred).ravel()\n",
    "precETC = tp/(tp+fp)\n",
    "recETC = tp/(tp+fn)\n",
    "accETC = (tp+tn)/len(val_y)\n",
    "print('Number of correct prediction: {}\\t Accuracy: {:>12.2%}\\nTrue negative: {:>18}\\t False positive: {:>3}\\nFalse negative: {:>17}\\t True positive: {:>4}'.format(tn+tp,accETC,tn,fp,fn,tp))\n",
    "print('Precision: {:>23.2f}\\t Recall: {:>12.2f}'.format(precETC,recETC))\n",
    "print('F-score: {:>25.2f}'.format((2*precETC*recETC)/(precETC+recETC)))\n"
   ]
  },
  {
   "cell_type": "markdown",
   "metadata": {},
   "source": [
    "### We have reached 80.72% of correct predictions. Now we will change the number of trees of the model to see if we can have a better result"
   ]
  },
  {
   "cell_type": "code",
   "execution_count": 23,
   "metadata": {},
   "outputs": [
    {
     "name": "stdout",
     "output_type": "stream",
     "text": [
      "Number of estimators: 100\tNumber of correct prediction: 180\tAccuracy: 80.72%\n",
      "Number of estimators: 200\tNumber of correct prediction: 181\tAccuracy: 81.17%\n",
      "Number of estimators: 300\tNumber of correct prediction: 181\tAccuracy: 81.17%\n",
      "Number of estimators: 400\tNumber of correct prediction: 180\tAccuracy: 80.72%\n",
      "Number of estimators: 500\tNumber of correct prediction: 180\tAccuracy: 80.72%\n",
      "Number of estimators: 1000\tNumber of correct prediction: 181\tAccuracy: 81.17%\n",
      "\n",
      "Best ratio : 81.17% with 200 estimators\n"
     ]
    }
   ],
   "source": [
    "resultsEst = []\n",
    "def nmodel(n):\n",
    "    model = ExtraTreesClassifier(random_state=0,n_estimators=n)\n",
    "    model.fit(train_X.values,train_y)\n",
    "    pred = model.predict(val_X.values)\n",
    "    tn, fp, fn, tp = confusion_matrix(val_y,pred).ravel()\n",
    "    print('Number of estimators: {}\\tNumber of correct prediction: {}\\tAccuracy: {:.2%}'.format(n,tn+tp,(tn+tp)/len(val_y)))\n",
    "    resultsEst.append([n,(tp+tn)/len(val_y)])\n",
    "\n",
    "narray = [100,200,300,400,500,1000]\n",
    "\n",
    "for n in narray:\n",
    "    nmodel(n)\n",
    "\n",
    "bstRatio = max(map(lambda x: x[1], resultsEst))\n",
    "\n",
    "for item in resultsEst:\n",
    "    if item[1] == bstRatio:\n",
    "        nEst=(item[0])\n",
    "        break\n",
    "    \n",
    "print('\\nBest ratio : {:.2%} with {} estimators'.format(bstRatio,nEst))"
   ]
  },
  {
   "cell_type": "markdown",
   "metadata": {},
   "source": [
    "### From the test, we can see that we had just little improvement, when we change the number of estimators from 100 (default) to 200, for example. But we can see as well that a higher number of trees does not necessarily means better ratio (e.g. 400 estimators yield 80.72%, less than 200 estimators, with 81.17% accuracy)\n",
    "### Now let's try tuning the number of features parameter. The default is square root of the number of features, in our cause, sqrt(23), between 4 and 5 features.\n",
    "### We will test from 1 feature to 23 features, the max, incrementing in steps of 1"
   ]
  },
  {
   "cell_type": "code",
   "execution_count": 24,
   "metadata": {},
   "outputs": [
    {
     "name": "stdout",
     "output_type": "stream",
     "text": [
      "Number of features: 1\tNumber of correct prediction: 180\tAccuracy: 80.72%\n",
      "Number of features: 2\tNumber of correct prediction: 182\tAccuracy: 81.61%\n",
      "Number of features: 3\tNumber of correct prediction: 184\tAccuracy: 82.51%\n",
      "Number of features: 4\tNumber of correct prediction: 180\tAccuracy: 80.72%\n",
      "Number of features: 5\tNumber of correct prediction: 184\tAccuracy: 82.51%\n",
      "Number of features: 6\tNumber of correct prediction: 183\tAccuracy: 82.06%\n",
      "Number of features: 7\tNumber of correct prediction: 179\tAccuracy: 80.27%\n",
      "Number of features: 8\tNumber of correct prediction: 176\tAccuracy: 78.92%\n",
      "Number of features: 9\tNumber of correct prediction: 180\tAccuracy: 80.72%\n",
      "Number of features: 10\tNumber of correct prediction: 180\tAccuracy: 80.72%\n",
      "Number of features: 11\tNumber of correct prediction: 177\tAccuracy: 79.37%\n",
      "Number of features: 12\tNumber of correct prediction: 182\tAccuracy: 81.61%\n",
      "Number of features: 13\tNumber of correct prediction: 178\tAccuracy: 79.82%\n",
      "Number of features: 14\tNumber of correct prediction: 178\tAccuracy: 79.82%\n",
      "Number of features: 15\tNumber of correct prediction: 180\tAccuracy: 80.72%\n",
      "Number of features: 16\tNumber of correct prediction: 180\tAccuracy: 80.72%\n",
      "Number of features: 17\tNumber of correct prediction: 180\tAccuracy: 80.72%\n",
      "Number of features: 18\tNumber of correct prediction: 178\tAccuracy: 79.82%\n",
      "Number of features: 19\tNumber of correct prediction: 179\tAccuracy: 80.27%\n",
      "Number of features: 20\tNumber of correct prediction: 179\tAccuracy: 80.27%\n",
      "Number of features: 21\tNumber of correct prediction: 175\tAccuracy: 78.48%\n",
      "Number of features: 22\tNumber of correct prediction: 177\tAccuracy: 79.37%\n",
      "Number of features: 23\tNumber of correct prediction: 174\tAccuracy: 78.03%\n",
      "\n",
      "Best ratio : 82.51% with 3 features\n"
     ]
    }
   ],
   "source": [
    "resultsFeat = []\n",
    "def nmodel(i):\n",
    "    model = ExtraTreesClassifier(random_state=0,max_features=i)\n",
    "    model.fit(train_X.values,train_y)\n",
    "    pred = model.predict(val_X.values)\n",
    "    tn, fp, fn, tp = confusion_matrix(val_y,pred).ravel()\n",
    "    print('Number of features: {}\\tNumber of correct prediction: {}\\tAccuracy: {:.2%}'.format(i,tn+tp,(tn+tp)/len(val_y)))\n",
    "    resultsFeat.append([i,(tp+tn)/len(val_y)])\n",
    "\n",
    "\n",
    "for i in range(1,24):\n",
    "    nmodel(i)\n",
    "\n",
    "bstRatio = max(map(lambda x: x[1], resultsFeat))\n",
    "\n",
    "for item in resultsFeat:\n",
    "    if item[1] == bstRatio:\n",
    "        nFeat=(item[0])\n",
    "        break\n",
    "    \n",
    "print('\\nBest ratio : {:.2%} with {} features'.format(bstRatio,nFeat))"
   ]
  },
  {
   "cell_type": "markdown",
   "metadata": {},
   "source": [
    "### We can plot this information in a bar chart, so we can see better the variation between the number of features"
   ]
  },
  {
   "cell_type": "code",
   "execution_count": 25,
   "metadata": {},
   "outputs": [
    {
     "data": {
      "image/png": "[encoded data removed]",
      "text/plain": [
       "<Figure size 1440x720 with 1 Axes>"
      ]
     },
     "metadata": {
      "needs_background": "light"
     },
     "output_type": "display_data"
    }
   ],
   "source": [
    "resultsFeatX = list(map(lambda x: x[0],resultsFeat))\n",
    "resultsFeatY= list(map(lambda x: x[1],resultsFeat))\n",
    "\n",
    "fig, ax = plt.subplots(figsize=(20,10))\n",
    "\n",
    "ax.bar(resultsFeatX,resultsFeatY)\n",
    "ax.set_xticks([*resultsFeatX])\n",
    "ax.set_xlabel('Number of Features',fontsize = 18)\n",
    "ax.set_ylabel('Accuracy',fontsize = 18)\n",
    "plt.axhline(y=bstRatio,color='r')\n",
    "plt.text(0,bstRatio+0.005,str('{:.2%}'.format(bstRatio)))\n",
    "\n",
    "plt.show()"
   ]
  },
  {
   "cell_type": "markdown",
   "metadata": {},
   "source": [
    "### From the table, we notice that our default model was using 4 features (80.72%). But we could achieve a better ratio using less features, namely, only 3. Note as well, that sometimes a higher number of features can lower our accuracy ratio\n",
    "### Now that we have chosen the best number of estimators and features, we are going to combine them and see the results"
   ]
  },
  {
   "cell_type": "code",
   "execution_count": 26,
   "metadata": {},
   "outputs": [
    {
     "name": "stdout",
     "output_type": "stream",
     "text": [
      "Number of correct prediction: 182\t Accuracy:       81.61%\n",
      "True negative:                114\t False positive:  18\n",
      "False negative:                23\t True positive:   68\n",
      "Precision:                    0.79\t Recall:         0.75\n",
      "F-score:                      0.77\n"
     ]
    }
   ],
   "source": [
    "model = ExtraTreesClassifier(random_state=0,max_features=nFeat,n_estimators=nEst)\n",
    "\n",
    "model.fit(train_X.values,train_y)\n",
    "pred = model.predict(val_X.values)\n",
    "tn, fp, fn, tp = confusion_matrix(val_y,pred).ravel()\n",
    "precETCOp = tp/(tp+fp)\n",
    "recETCOp = tp/(tp+fn)\n",
    "accETCOp = (tp+tn)/len(val_y)\n",
    "print('Number of correct prediction: {}\\t Accuracy: {:>12.2%}\\nTrue negative: {:>18}\\t False positive: {:>3}\\nFalse negative: {:>17}\\t True positive: {:>4}'.format(tn+tp,accETCOp,tn,fp,fn,tp))\n",
    "print('Precision: {:>23.2f}\\t Recall: {:>12.2f}'.format(precETCOp,recETCOp))\n",
    "print('F-score: {:>25.2f}'.format((2*precETCOp*recETCOp)/(precETCOp+recETCOp)))"
   ]
  },
  {
   "cell_type": "markdown",
   "metadata": {},
   "source": [
    "### The combination of the best numbers from each parameter did not yield the best result when used together. Using 3 features with 100 estimators (the default) has produced a better prediction than with 200 estimators\n",
    "### So we are creating a model with only 3 features and 100 estimators"
   ]
  },
  {
   "cell_type": "code",
   "execution_count": 27,
   "metadata": {},
   "outputs": [
    {
     "name": "stdout",
     "output_type": "stream",
     "text": [
      "Number of correct prediction: 184\t Accuracy:       82.51%\n",
      "True negative:                114\t False positive:  18\n",
      "False negative:                21\t True positive:   70\n",
      "Precision:                    0.80\t Recall:         0.77\n",
      "F-score:                      0.78\n"
     ]
    }
   ],
   "source": [
    "model = ExtraTreesClassifier(random_state=0,max_features=nFeat,n_estimators=100)\n",
    "\n",
    "model.fit(train_X.values,train_y)\n",
    "pred = model.predict(val_X.values)\n",
    "tn, fp, fn, tp = confusion_matrix(val_y,pred).ravel()\n",
    "precETCOp = tp/(tp+fp)\n",
    "recETCOp = tp/(tp+fn)\n",
    "accETCOp = (tp+tn)/len(val_y)\n",
    "print('Number of correct prediction: {}\\t Accuracy: {:>12.2%}\\nTrue negative: {:>18}\\t False positive: {:>3}\\nFalse negative: {:>17}\\t True positive: {:>4}'.format(tn+tp,accETCOp,tn,fp,fn,tp))\n",
    "print('Precision: {:>23.2f}\\t Recall: {:>12.2f}'.format(precETCOp,recETCOp))\n",
    "print('F-score: {:>25.2f}'.format((2*precETCOp*recETCOp)/(precETCOp+recETCOp)))"
   ]
  },
  {
   "cell_type": "markdown",
   "metadata": {},
   "source": [
    "### Now let's apply the oversampling technique, in order to balance the data, making the survival/non-survival rate as 50/50\n",
    "### We will increase the number of survival outputs"
   ]
  },
  {
   "cell_type": "code",
   "execution_count": 28,
   "metadata": {},
   "outputs": [
    {
     "name": "stdout",
     "output_type": "stream",
     "text": [
      "--------------------Before oversampling---------------------\n",
      "Number of survival: 249 \t Number of non-survival: 417\n",
      "\n",
      "---------------------After oversampling---------------------\n",
      "Number of survival: 417 \t Number of non-survival: 417\n"
     ]
    }
   ],
   "source": [
    "from imblearn.over_sampling import SMOTE\n",
    "\n",
    "X_resampled, y_resampled = SMOTE().fit_resample(train_X.values,train_y)\n",
    "\n",
    "print('{:-^60}'.format('Before oversampling'))\n",
    "print('Number of survival: {} \\t Number of non-survival: {}'.format((train_y==1).sum(),(train_y==0).sum()))\n",
    "print('\\n{:-^60}'.format('After oversampling'))\n",
    "print('Number of survival: {} \\t Number of non-survival: {}'.format((y_resampled==1).sum(),(y_resampled==0).sum()))"
   ]
  },
  {
   "cell_type": "markdown",
   "metadata": {},
   "source": [
    "### Let's test it again, using our best parameter untill now, number of features = 3 and estimators = 100 (default)"
   ]
  },
  {
   "cell_type": "code",
   "execution_count": 29,
   "metadata": {},
   "outputs": [
    {
     "name": "stdout",
     "output_type": "stream",
     "text": [
      "Number of correct prediction: 179\t Accuracy:       80.27%\n",
      "True negative:                113\t False positive:  19\n",
      "False negative:                25\t True positive:   66\n",
      "Precision:                    0.78\t Recall:         0.73\n",
      "F-score:                      0.75\n"
     ]
    }
   ],
   "source": [
    "model = ExtraTreesClassifier(random_state=0,max_features=nFeat)\n",
    "model.fit(X_resampled,y_resampled)\n",
    "\n",
    "pred = model.predict(val_X.values)\n",
    "tn, fp, fn, tp = confusion_matrix(val_y,pred).ravel()\n",
    "precETCResam = tp/(tp+fp)\n",
    "recETCResam = tp/(tp+fn)\n",
    "accETCResam = (tp+tn)/len(val_y)\n",
    "print('Number of correct prediction: {}\\t Accuracy: {:>12.2%}\\nTrue negative: {:>18}\\t False positive: {:>3}\\nFalse negative: {:>17}\\t True positive: {:>4}'.format(tn+tp,accETCResam,tn,fp,fn,tp))\n",
    "print('Precision: {:>23.2f}\\t Recall: {:>12.2f}'.format(precETCResam,recETCResam))\n",
    "print('F-score: {:>25.2f}'.format((2*precETCResam*recETCResam)/(precETCResam+recETCResam)))"
   ]
  },
  {
   "cell_type": "markdown",
   "metadata": {},
   "source": [
    "### There is little to almost no change. That is because the data was only slightly imbalanced. We will test other models now, with the original dataset and with no change in the parameters"
   ]
  },
  {
   "cell_type": "markdown",
   "metadata": {},
   "source": [
    "## Starting with the Gaussian Naive Bayes model"
   ]
  },
  {
   "cell_type": "code",
   "execution_count": 30,
   "metadata": {},
   "outputs": [
    {
     "name": "stdout",
     "output_type": "stream",
     "text": [
      "Number of correct prediction: 168\t Accuracy:       75.34%\n",
      "True negative:                 94\t False positive:  38\n",
      "False negative:                17\t True positive:   74\n",
      "Precision:                    0.66\t Recall:         0.81\n",
      "F-score:                      0.73\n"
     ]
    }
   ],
   "source": [
    "from sklearn.naive_bayes import GaussianNB\n",
    "gnb = GaussianNB()\n",
    "\n",
    "gnb.fit(train_X.values, train_y)\n",
    "pred = gnb.predict(val_X.values)\n",
    "\n",
    "tn, fp, fn, tp = confusion_matrix(val_y,pred).ravel()\n",
    "precGNB = tp/(tp+fp)\n",
    "recGNB = tp/(tp+fn)\n",
    "accGNB = (tp+tn)/len(val_y)\n",
    "print('Number of correct prediction: {}\\t Accuracy: {:>12.2%}\\nTrue negative: {:>18}\\t False positive: {:>3}\\nFalse negative: {:>17}\\t True positive: {:>4}'.format(tn+tp,accGNB,tn,fp,fn,tp))\n",
    "print('Precision: {:>23.2f}\\t Recall: {:>12.2f}'.format(precGNB,recGNB))\n",
    "print('F-score: {:>25.2f}'.format((2*precGNB*recGNB)/(precGNB+recGNB)))"
   ]
  },
  {
   "cell_type": "markdown",
   "metadata": {},
   "source": [
    "### The Gaussian Naive Bayes model had a lower accuracy and precision, but had a higher recall"
   ]
  },
  {
   "cell_type": "code",
   "execution_count": 31,
   "metadata": {},
   "outputs": [
    {
     "name": "stdout",
     "output_type": "stream",
     "text": [
      "Number of correct prediction: 174\t Accuracy:       78.03%\n",
      "True negative:                107\t False positive:  25\n",
      "False negative:                24\t True positive:   67\n",
      "Precision:                    0.73\t Recall:         0.74\n",
      "F-score:                      0.73\n"
     ]
    }
   ],
   "source": [
    "from sklearn.linear_model import LogisticRegression\n",
    "\n",
    "clf = LogisticRegression(random_state=0,max_iter=1000).fit(train_X.values, train_y)\n",
    "pred = clf.predict(val_X.values)\n",
    "tn, fp, fn, tp = confusion_matrix(val_y,pred).ravel()\n",
    "precCLF = tp/(tp+fp)\n",
    "recCLF = tp/(tp+fn)\n",
    "accCLF = (tp+tn)/len(val_y)\n",
    "print('Number of correct prediction: {}\\t Accuracy: {:>12.2%}\\nTrue negative: {:>18}\\t False positive: {:>3}\\nFalse negative: {:>17}\\t True positive: {:>4}'.format(tn+tp,accCLF,tn,fp,fn,tp))\n",
    "print('Precision: {:>23.2f}\\t Recall: {:>12.2f}'.format(precCLF,recCLF))\n",
    "print('F-score: {:>25.2f}'.format((2*precCLF*recCLF)/(precCLF+recCLF)))"
   ]
  },
  {
   "cell_type": "markdown",
   "metadata": {},
   "source": [
    "### The Logistic Regression had a lower accuracy, but the levels are precision and recall are balanced"
   ]
  },
  {
   "cell_type": "code",
   "execution_count": 32,
   "metadata": {},
   "outputs": [
    {
     "name": "stdout",
     "output_type": "stream",
     "text": [
      "Number of correct prediction: 161\t Accuracy:       72.20%\n",
      "True negative:                106\t False positive:  26\n",
      "False negative:                36\t True positive:   55\n",
      "Precision:                    0.68\t Recall:         0.60\n",
      "F-score:                      0.64\n"
     ]
    }
   ],
   "source": [
    "from sklearn.neighbors import KNeighborsClassifier\n",
    "\n",
    "kmodel = KNeighborsClassifier(n_neighbors=3)\n",
    "\n",
    "kmodel.fit(train_X.values,train_y)\n",
    "pred = kmodel.predict(val_X.values)\n",
    "tn, fp, fn, tp = confusion_matrix(val_y,pred).ravel()\n",
    "precKN = tp/(tp+fp)\n",
    "recKN = tp/(tp+fn)\n",
    "accKN = (tp+tn)/len(val_y)\n",
    "print('Number of correct prediction: {}\\t Accuracy: {:>12.2%}\\nTrue negative: {:>18}\\t False positive: {:>3}\\nFalse negative: {:>17}\\t True positive: {:>4}'.format(tn+tp,accKN,tn,fp,fn,tp))\n",
    "print('Precision: {:>23.2f}\\t Recall: {:>12.2f}'.format(precKN,recKN))\n",
    "print('F-score: {:>25.2f}'.format((2*precKN*recKN)/(precKN+recKN)))"
   ]
  },
  {
   "cell_type": "markdown",
   "metadata": {},
   "source": [
    "### The Kneighbors had the worst accuracy and F-score overall"
   ]
  },
  {
   "cell_type": "markdown",
   "metadata": {},
   "source": [
    "### Let us plot the different accuracies between models"
   ]
  },
  {
   "cell_type": "code",
   "execution_count": 33,
   "metadata": {},
   "outputs": [
    {
     "data": {
      "image/png": "[encoded data removed]",
      "text/plain": [
       "<Figure size 1440x720 with 1 Axes>"
      ]
     },
     "metadata": {
      "needs_background": "light"
     },
     "output_type": "display_data"
    }
   ],
   "source": [
    "results = pd.Series(data=[accETC,accETCOp,accETCResam,accGNB,accCLF,accKN],index=['Default Extreme Tree','Optimized Extreme Tree','Balanced Extreme Tree','Gauss Naive Bayes','Logistic Regression','KNeighbors'])\n",
    "\n",
    "fig, ax = plt.subplots(figsize=(20,10))\n",
    "\n",
    "ax.bar(results.index,results.values)\n",
    "\n",
    "ax.set_xlabel('Model',fontsize = 18)\n",
    "ax.set_ylabel('Accuracy',fontsize = 18)\n",
    "plt.axhline(y=max(results.values),color='r')\n",
    "plt.text(0,max(results.values)+0.005,str('{:.2%}'.format(max(results.values))))\n",
    "\n",
    "plt.show()"
   ]
  },
  {
   "cell_type": "markdown",
   "metadata": {},
   "source": [
    "### From the chart, we can conclude that the best model was the optimized extreme tree, where we had the extremely randomized tree as model and the number of features parameter was set to 3.\n",
    "### This is only taking the accuracy into account. We could choose our model based on the best precision, recall or F-score as well, taking into account what is the most important parameter for us."
   ]
  },
  {
   "cell_type": "markdown",
   "metadata": {},
   "source": [
    "### We can use now our chosen model to predict the test dataset and then send the results to Kaggle\n",
    "### First we just need to adjust the test dataset with the One Hot Encoding procedure we did before for our own test dataset and then we can evaluate it"
   ]
  },
  {
   "cell_type": "code",
   "execution_count": 34,
   "metadata": {},
   "outputs": [
    {
     "name": "stdout",
     "output_type": "stream",
     "text": [
      "             Pclass   Age  SibSp  Parch     Fare    0    1    2    3    4  ...    8    9   10   11   12   13   14   15   16   17\n",
      "PassengerId                                                                ...                                                  \n",
      "892               3  34.5      0      0   7.8292  0.0  1.0  0.0  0.0  0.0  ...  0.0  1.0  0.0  1.0  0.0  0.0  0.0  1.0  0.0  0.0\n",
      "893               3  47.0      1      0   7.0000  1.0  0.0  0.0  0.0  0.0  ...  0.0  1.0  0.0  0.0  1.0  0.0  0.0  0.0  1.0  0.0\n",
      "894               2  62.0      0      0   9.6875  0.0  1.0  0.0  0.0  0.0  ...  0.0  1.0  0.0  1.0  0.0  0.0  0.0  1.0  0.0  0.0\n",
      "895               3  27.0      0      0   8.6625  0.0  1.0  0.0  0.0  0.0  ...  0.0  1.0  0.0  0.0  1.0  0.0  0.0  1.0  0.0  0.0\n",
      "896               3  22.0      1      1  12.2875  1.0  0.0  0.0  0.0  0.0  ...  0.0  1.0  0.0  0.0  1.0  0.0  0.0  0.0  1.0  0.0\n",
      "\n",
      "[5 rows x 23 columns]\n"
     ]
    }
   ],
   "source": [
    "OHCols = pd.DataFrame(OHEncoder.fit_transform(test[labelCol]))\n",
    "\n",
    "OHCols.index = test.index\n",
    "\n",
    "test.drop(labelCol,axis=1,inplace=True)\n",
    "\n",
    "test = pd.concat([test,OHCols],axis=1)\n",
    "\n",
    "print(test.head())"
   ]
  },
  {
   "cell_type": "markdown",
   "metadata": {},
   "source": [
    "### We can then make a prediction on the test dataset, make it into a Dataframe and then save it as csv, so we can submit the file.\n",
    "### The format of the csv is: PassengerId and Survived"
   ]
  },
  {
   "cell_type": "code",
   "execution_count": 35,
   "metadata": {},
   "outputs": [
    {
     "name": "stdout",
     "output_type": "stream",
     "text": [
      "     PassengerId  Survived\n",
      "0            892         0\n",
      "1            893         0\n",
      "2            894         0\n",
      "3            895         1\n",
      "4            896         0\n",
      "..           ...       ...\n",
      "413         1305         0\n",
      "414         1306         1\n",
      "415         1307         0\n",
      "416         1308         0\n",
      "417         1309         1\n",
      "\n",
      "[418 rows x 2 columns]\n"
     ]
    }
   ],
   "source": [
    "model = ExtraTreesClassifier(random_state=0,max_features=nFeat,n_estimators=100)\n",
    "\n",
    "model.fit(train_X.values,train_y)\n",
    "pred = model.predict(test.values)\n",
    "\n",
    "test_df = pd.DataFrame(data=[test.index,pred],index=['PassengerId','Survived'])\n",
    "test_df = test_df.T\n",
    "print(test_df)"
   ]
  },
  {
   "cell_type": "code",
   "execution_count": 36,
   "metadata": {},
   "outputs": [],
   "source": [
    "test_df.to_csv('submission.csv',index=False)"
   ]
  }
 ],
 "metadata": {
  "interpreter": {
   "hash": "247ab06e135bb35fa78c5eff31b2a9a0050dcb5fb773c2631d2a29ac689eeccb"
  },
  "kernelspec": {
   "display_name": "Python 3.9.6 64-bit",
   "language": "python",
   "name": "python3"
  },
  "language_info": {
   "codemirror_mode": {
    "name": "ipython",
    "version": 3
   },
   "file_extension": ".py",
   "mimetype": "text/x-python",
   "name": "python",
   "nbconvert_exporter": "python",
   "pygments_lexer": "ipython3",
   "version": "3.9.6"
  },
  "orig_nbformat": 4
 },
 "nbformat": 4,
 "nbformat_minor": 2
}
